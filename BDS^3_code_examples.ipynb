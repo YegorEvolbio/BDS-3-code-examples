{
  "nbformat": 4,
  "nbformat_minor": 0,
  "metadata": {
    "colab": {
      "provenance": []
    },
    "kernelspec": {
      "name": "python3",
      "display_name": "Python 3"
    },
    "language_info": {
      "name": "python"
    }
  },
  "cells": [
    {
      "cell_type": "code",
      "execution_count": null,
      "metadata": {
        "id": "u2hw-iS26-eO"
      },
      "outputs": [],
      "source": [
        "#one_way_swtich\n",
        "import matplotlib.pyplot as plt\n",
        "import numpy as np\n",
        "\n",
        "K = 0.5\n",
        "k0 = 0.2\n",
        "k1 = 0.1\n",
        "k2 = 1\n",
        "n = 6\n",
        "S = np.linspace(0, 10, 100)\n",
        "\n",
        "dt = 0.01\n",
        "t = np.arange(0, 20, dt)\n",
        "\n",
        "def EP(R):\n",
        "  return (R**n)/(K**n + R**n)\n",
        "\n",
        "def one_way_swith_ode(R, S):\n",
        "  return k0*EP(R) + k1*S - k2*R\n",
        "\n",
        "def step(y, dy, dt):\n",
        "  return y + dy*dt\n",
        "\n",
        "#sol = odeint(one_way_swith_ode, R0, t)\n",
        "\n",
        "plt.figure(figsize = (15, 15))\n",
        "for s in S:\n",
        "  R0 = 0 \n",
        "  R = np.array([0])\n",
        "  for i in range(1, int(20/dt)):\n",
        "    R0 = R[-1]\n",
        "    R0 = step(R0, one_way_swith_ode(R0, s), dt)\n",
        "    R = np.append(R, R0)\n",
        "  plt.plot(t, R, color = (s/10, 0, 1))\n",
        "\n",
        "plt.grid()\n",
        "plt.show()"
      ]
    },
    {
      "cell_type": "code",
      "source": [
        "def euler_fw(x, g, k, m, b, dt):\n",
        "  x_dot = np.zeros(2)\n",
        "  x_dot[0] = x[1]\n",
        "  x_dot[1] = g - (b*x[1])/m - (k*x[0])/m\n",
        "  return x + dt*x_dot\n",
        "\n",
        "def euler_bw(x, g, k, m, b, dt):\n",
        "  x_probe = euler_fw(x, g, k, m, b, dt)\n",
        "  x_probe_dot = np.zeros(2)\n",
        "  x_probe_dot[0] = x_probe[1]\n",
        "  x_probe_dot[1] = g - (b*x_probe[1])/m - (k*x_probe[0])/m\n",
        "  return x + dt*x_probe_dot\n",
        "\n",
        "g = 0\n",
        "k = 2\n",
        "m = 0.5\n",
        "b = 0 \n",
        "dt = 0.1\n",
        "x_01 = np.array([-1, -2])\n",
        "x_02 = x_01\n",
        "x1 = [x_01[0]]\n",
        "x2 = [x_01[0]]\n",
        "v1 = [x_01[1]]\n",
        "v2 = [x_01[1]]\n",
        "\n",
        "for i in range(50):\n",
        "  x_01 = euler_fw(x_01, g, k, m, b, dt)\n",
        "  x_02 = euler_bw(x_02, g, k, m, b, dt)\n",
        "  x = np.array([np.mean([x_01[0], x_02[0]]), np.mean([x_01[1], x_02[1]])])\n",
        "  x1.append(x[0])\n",
        "  v1.append(x[1])\n",
        "  x2.append(x_02[0])\n",
        "  v2.append(x_02[1])\n",
        "\n",
        "plt.figure()\n",
        "plt.grid()\n",
        "plt.plot(x1, v1)\n",
        "plt.plot(x2, v2)"
      ],
      "metadata": {
        "id": "jjjZ179g7MAJ"
      },
      "execution_count": null,
      "outputs": []
    },
    {
      "cell_type": "code",
      "source": [
        "#logistic_map_bifurcation\n",
        "iterations=1000\n",
        "last=100\n",
        "n=1000\n",
        "x=0.01*np.ones(n)\n",
        "\n",
        "r=np.linspace(2, 4, n)\n",
        "\n",
        "def map(x, r):\n",
        "  return r*x*(1-x) #plug in different functions\n",
        "\n",
        "plt.figure(figsize=(10, 7.5))\n",
        "for i in range(iterations):\n",
        "  x=map(x, r)\n",
        "  if i >= (iterations - last):\n",
        "    plt.plot(r, x, ',k')"
      ],
      "metadata": {
        "id": "U-LAUUCl7P_y"
      },
      "execution_count": null,
      "outputs": []
    }
  ]
}